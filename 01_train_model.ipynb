{
  "nbformat": 4,
  "nbformat_minor": 0,
  "metadata": {
    "colab": {
      "provenance": []
    },
    "kernelspec": {
      "name": "python3",
      "display_name": "Python 3"
    },
    "language_info": {
      "name": "python"
    }
  },
  "cells": [
    {
      "cell_type": "code",
      "execution_count": null,
      "metadata": {
        "colab": {
          "base_uri": "https://localhost:8080/",
          "height": 453
        },
        "id": "Bb7aF0aC0gr5",
        "outputId": "5539e776-476a-4d11-e09e-3b92fac5a9f3"
      },
      "outputs": [
        {
          "output_type": "stream",
          "name": "stdout",
          "text": [
            "Datos de entrenamiento: (1460, 81)\n",
            "Datos de prueba: (1459, 80)\n",
            "Fitting 3 folds for each of 12 candidates, totalling 36 fits\n",
            "Mejores parámetros: {'max_depth': 10, 'min_samples_split': 2, 'n_estimators': 100}\n",
            "MAE: 17980.80\n",
            "RMSE: 29219.95\n",
            "R2: 0.89\n"
          ]
        },
        {
          "output_type": "error",
          "ename": "FileNotFoundError",
          "evalue": "[Errno 2] No such file or directory: 'model/house_price_model.pkl'",
          "traceback": [
            "\u001b[0;31m---------------------------------------------------------------------------\u001b[0m",
            "\u001b[0;31mFileNotFoundError\u001b[0m                         Traceback (most recent call last)",
            "\u001b[0;32m/tmp/ipython-input-2839982143.py\u001b[0m in \u001b[0;36m<cell line: 0>\u001b[0;34m()\u001b[0m\n\u001b[1;32m     92\u001b[0m \u001b[0;31m# 8. GUARDAR EL MODELO Y EL ESCALADOR\u001b[0m\u001b[0;34m\u001b[0m\u001b[0;34m\u001b[0m\u001b[0m\n\u001b[1;32m     93\u001b[0m \u001b[0;31m# =======================================================\u001b[0m\u001b[0;34m\u001b[0m\u001b[0;34m\u001b[0m\u001b[0m\n\u001b[0;32m---> 94\u001b[0;31m \u001b[0mjoblib\u001b[0m\u001b[0;34m.\u001b[0m\u001b[0mdump\u001b[0m\u001b[0;34m(\u001b[0m\u001b[0mbest_model\u001b[0m\u001b[0;34m,\u001b[0m \u001b[0;34m\"model/house_price_model.pkl\"\u001b[0m\u001b[0;34m)\u001b[0m\u001b[0;34m\u001b[0m\u001b[0;34m\u001b[0m\u001b[0m\n\u001b[0m\u001b[1;32m     95\u001b[0m \u001b[0mjoblib\u001b[0m\u001b[0;34m.\u001b[0m\u001b[0mdump\u001b[0m\u001b[0;34m(\u001b[0m\u001b[0mscaler\u001b[0m\u001b[0;34m,\u001b[0m \u001b[0;34m\"model/scaler.pkl\"\u001b[0m\u001b[0;34m)\u001b[0m\u001b[0;34m\u001b[0m\u001b[0;34m\u001b[0m\u001b[0m\n\u001b[1;32m     96\u001b[0m \u001b[0;34m\u001b[0m\u001b[0m\n",
            "\u001b[0;32m/usr/local/lib/python3.12/dist-packages/joblib/numpy_pickle.py\u001b[0m in \u001b[0;36mdump\u001b[0;34m(value, filename, compress, protocol)\u001b[0m\n\u001b[1;32m    597\u001b[0m             \u001b[0mNumpyPickler\u001b[0m\u001b[0;34m(\u001b[0m\u001b[0mf\u001b[0m\u001b[0;34m,\u001b[0m \u001b[0mprotocol\u001b[0m\u001b[0;34m=\u001b[0m\u001b[0mprotocol\u001b[0m\u001b[0;34m)\u001b[0m\u001b[0;34m.\u001b[0m\u001b[0mdump\u001b[0m\u001b[0;34m(\u001b[0m\u001b[0mvalue\u001b[0m\u001b[0;34m)\u001b[0m\u001b[0;34m\u001b[0m\u001b[0;34m\u001b[0m\u001b[0m\n\u001b[1;32m    598\u001b[0m     \u001b[0;32melif\u001b[0m \u001b[0mis_filename\u001b[0m\u001b[0;34m:\u001b[0m\u001b[0;34m\u001b[0m\u001b[0;34m\u001b[0m\u001b[0m\n\u001b[0;32m--> 599\u001b[0;31m         \u001b[0;32mwith\u001b[0m \u001b[0mopen\u001b[0m\u001b[0;34m(\u001b[0m\u001b[0mfilename\u001b[0m\u001b[0;34m,\u001b[0m \u001b[0;34m\"wb\"\u001b[0m\u001b[0;34m)\u001b[0m \u001b[0;32mas\u001b[0m \u001b[0mf\u001b[0m\u001b[0;34m:\u001b[0m\u001b[0;34m\u001b[0m\u001b[0;34m\u001b[0m\u001b[0m\n\u001b[0m\u001b[1;32m    600\u001b[0m             \u001b[0mNumpyPickler\u001b[0m\u001b[0;34m(\u001b[0m\u001b[0mf\u001b[0m\u001b[0;34m,\u001b[0m \u001b[0mprotocol\u001b[0m\u001b[0;34m=\u001b[0m\u001b[0mprotocol\u001b[0m\u001b[0;34m)\u001b[0m\u001b[0;34m.\u001b[0m\u001b[0mdump\u001b[0m\u001b[0;34m(\u001b[0m\u001b[0mvalue\u001b[0m\u001b[0;34m)\u001b[0m\u001b[0;34m\u001b[0m\u001b[0;34m\u001b[0m\u001b[0m\n\u001b[1;32m    601\u001b[0m     \u001b[0;32melse\u001b[0m\u001b[0;34m:\u001b[0m\u001b[0;34m\u001b[0m\u001b[0;34m\u001b[0m\u001b[0m\n",
            "\u001b[0;31mFileNotFoundError\u001b[0m: [Errno 2] No such file or directory: 'model/house_price_model.pkl'"
          ]
        }
      ],
      "source": [
        "# =======================================================\n",
        "# 1. CARGA DE LIBRERÍAS\n",
        "# =======================================================\n",
        "import pandas as pd\n",
        "import numpy as np\n",
        "import matplotlib.pyplot as plt\n",
        "import seaborn as sns\n",
        "from sklearn.model_selection import train_test_split, GridSearchCV\n",
        "from sklearn.preprocessing import StandardScaler\n",
        "from sklearn.metrics import mean_absolute_error, mean_squared_error, r2_score\n",
        "from sklearn.ensemble import RandomForestRegressor\n",
        "import joblib\n",
        "\n",
        "# =======================================================\n",
        "# 2. CARGA DE DATOS\n",
        "# =======================================================\n",
        "train = pd.read_csv(\"data/train.csv\")\n",
        "test = pd.read_csv(\"data/test.csv\")\n",
        "\n",
        "print(\"Datos de entrenamiento:\", train.shape)\n",
        "print(\"Datos de prueba:\", test.shape)\n",
        "\n",
        "# =======================================================\n",
        "# 3. SELECCIÓN DE VARIABLES Y MANEJO DE NULOS\n",
        "# =======================================================\n",
        "cols_to_drop = [\"Id\"]\n",
        "train = train.drop(cols_to_drop, axis=1)\n",
        "test = test.drop(cols_to_drop, axis=1)\n",
        "\n",
        "# Dividir entre columnas numéricas y categóricas\n",
        "num_cols = train.select_dtypes(include=[np.number]).columns\n",
        "cat_cols = train.select_dtypes(exclude=[np.number]).columns\n",
        "\n",
        "# Rellenar nulos numéricos con la mediana\n",
        "train[num_cols] = train[num_cols].fillna(train[num_cols].median())\n",
        "\n",
        "# Rellenar nulos categóricos con el valor más frecuente (moda)\n",
        "for col in cat_cols:\n",
        "    train[col] = train[col].fillna(train[col].mode()[0])\n",
        "\n",
        "# Codificar variables categóricas con One-Hot Encoding\n",
        "train = pd.get_dummies(train, drop_first=True)\n",
        "\n",
        "\n",
        "# =======================================================\n",
        "# 4. DIVISIÓN DE DATOS\n",
        "# =======================================================\n",
        "X = train.drop(\"SalePrice\", axis=1)\n",
        "y = train[\"SalePrice\"]\n",
        "\n",
        "X_train, X_val, y_train, y_val = train_test_split(X, y, test_size=0.2, random_state=42)\n",
        "\n",
        "# =======================================================\n",
        "# 5. ESCALADO\n",
        "# =======================================================\n",
        "scaler = StandardScaler()\n",
        "X_train_scaled = scaler.fit_transform(X_train)\n",
        "X_val_scaled = scaler.transform(X_val)\n",
        "\n",
        "# =======================================================\n",
        "# 6. ENTRENAMIENTO DEL MODELO\n",
        "# =======================================================\n",
        "rf = RandomForestRegressor(random_state=42)\n",
        "\n",
        "param_grid = {\n",
        "    'n_estimators': [100, 200],\n",
        "    'max_depth': [10, 20, None],\n",
        "    'min_samples_split': [2, 5]\n",
        "}\n",
        "\n",
        "grid = GridSearchCV(rf, param_grid, cv=3, scoring='r2', verbose=2, n_jobs=-1)\n",
        "grid.fit(X_train_scaled, y_train)\n",
        "\n",
        "best_model = grid.best_estimator_\n",
        "print(\"Mejores parámetros:\", grid.best_params_)\n",
        "\n",
        "# =======================================================\n",
        "# 7. EVALUACIÓN DEL MODELO\n",
        "# =======================================================\n",
        "y_pred = best_model.predict(X_val_scaled)\n",
        "\n",
        "mae = mean_absolute_error(y_val, y_pred)\n",
        "mse = mean_squared_error(y_val, y_pred)\n",
        "rmse = np.sqrt(mse)\n",
        "r2 = r2_score(y_val, y_pred)\n",
        "\n",
        "print(f\"MAE: {mae:.2f}\")\n",
        "print(f\"RMSE: {rmse:.2f}\")\n",
        "print(f\"R2: {r2:.2f}\")\n",
        "\n",
        "# =======================================================\n",
        "# 8. GUARDAR EL MODELO Y EL ESCALADOR\n",
        "# =======================================================\n",
        "joblib.dump(best_model, \"model/house_price_model.pkl\")\n",
        "joblib.dump(scaler, \"model/scaler.pkl\")\n",
        "\n",
        "print(\"✅ Modelo y escalador guardados correctamente.\")\n"
      ]
    },
    {
      "cell_type": "code",
      "source": [
        "import os\n",
        "os.makedirs(\"model\", exist_ok=True)"
      ],
      "metadata": {
        "id": "sJPJ7hWu5QHB"
      },
      "execution_count": null,
      "outputs": []
    },
    {
      "cell_type": "code",
      "source": [
        "# =======================================================\n",
        "# 8. GUARDAR EL MODELO Y EL ESCALADOR\n",
        "# =======================================================\n",
        "import os\n",
        "os.makedirs(\"model\", exist_ok=True)\n",
        "\n",
        "joblib.dump(best_model, \"model/house_price_model.pkl\")\n",
        "joblib.dump(scaler, \"model/scaler.pkl\")\n",
        "\n",
        "print(\"✅ Modelo y escalador guardados correctamente en la carpeta 'model/'.\")"
      ],
      "metadata": {
        "colab": {
          "base_uri": "https://localhost:8080/"
        },
        "id": "EgQpFVl45UBZ",
        "outputId": "01a4b256-708e-4b1f-e348-5237c5293726"
      },
      "execution_count": null,
      "outputs": [
        {
          "output_type": "stream",
          "name": "stdout",
          "text": [
            "✅ Modelo y escalador guardados correctamente en la carpeta 'model/'.\n"
          ]
        }
      ]
    },
    {
      "cell_type": "code",
      "source": [
        "import pandas as pd\n",
        "from sklearn.model_selection import train_test_split\n",
        "from sklearn.preprocessing import StandardScaler\n",
        "from sklearn.ensemble import RandomForestRegressor\n",
        "import joblib\n",
        "\n",
        "# Cargar los datos\n",
        "train = pd.read_csv(\"data/train.csv\")\n",
        "\n",
        "# Solo las columnas que usarás en Flask\n",
        "features = [\"GrLivArea\", \"OverallQual\", \"GarageCars\", \"TotalBsmtSF\", \"YearBuilt\"]\n",
        "X = train[features]\n",
        "y = train[\"SalePrice\"]\n",
        "\n",
        "# Escalador\n",
        "scaler = StandardScaler()\n",
        "X_scaled = scaler.fit_transform(X)\n",
        "\n",
        "# Entrenar el modelo\n",
        "model = RandomForestRegressor(n_estimators=100, random_state=42)\n",
        "model.fit(X_scaled, y)\n",
        "\n",
        "# Guardar el modelo y el escalador\n",
        "joblib.dump(model, \"model/house_price_model.pkl\")\n",
        "joblib.dump(scaler, \"model/scaler.pkl\")\n",
        "\n",
        "print(\"✅ Modelo entrenado con 5 variables guardado correctamente.\")\n"
      ],
      "metadata": {
        "colab": {
          "base_uri": "https://localhost:8080/"
        },
        "id": "KYvDLBWZ888J",
        "outputId": "cb5e0114-96e2-4a6f-d534-6af0033ec135"
      },
      "execution_count": null,
      "outputs": [
        {
          "output_type": "stream",
          "name": "stdout",
          "text": [
            "✅ Modelo entrenado con 5 variables guardado correctamente.\n"
          ]
        }
      ]
    },
    {
      "cell_type": "code",
      "source": [
        "joblib.dump(model, \"model/house_price_model.pkl\")\n",
        "joblib.dump(scaler, \"model/scaler.pkl\")"
      ],
      "metadata": {
        "colab": {
          "base_uri": "https://localhost:8080/"
        },
        "id": "rGu_u1vh-CQm",
        "outputId": "b84a7de6-d7f3-4681-b1fc-851a12b15072"
      },
      "execution_count": null,
      "outputs": [
        {
          "output_type": "execute_result",
          "data": {
            "text/plain": [
              "['model/scaler.pkl']"
            ]
          },
          "metadata": {},
          "execution_count": 24
        }
      ]
    },
    {
      "cell_type": "code",
      "source": [
        "import joblib\n",
        "\n",
        "# Nuevos objetos\n",
        "joblib.dump(model, \"model/house_price_model.pkl\")  # 🔄 se reemplaza automáticamente\n",
        "joblib.dump(scaler, \"model/scaler.pkl\")            # 🔄 también se reemplaza\n"
      ],
      "metadata": {
        "id": "-F0Om_bX-Pk0",
        "outputId": "101250ec-5e58-4c9b-9891-9e0cbc265884",
        "colab": {
          "base_uri": "https://localhost:8080/"
        }
      },
      "execution_count": null,
      "outputs": [
        {
          "output_type": "execute_result",
          "data": {
            "text/plain": [
              "['model/scaler.pkl']"
            ]
          },
          "metadata": {},
          "execution_count": 25
        }
      ]
    }
  ]
}